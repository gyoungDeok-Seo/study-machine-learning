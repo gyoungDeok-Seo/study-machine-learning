{
 "cells": [
  {
   "cell_type": "markdown",
   "id": "7d1f5570-2bdb-4eaa-9769-2c9bcb141612",
   "metadata": {},
   "source": [
    "### 교차 검증 (Cross Validation)\r\n",
    "- 기존 방식에서는 데이터 세트에서 학습 데이터 세트와 테스트 데이터 세트를 분리한 뒤 모델 검증을 진행한다.\r\n",
    "- 교차 검증 시, 학습 데이터를 다시 분할하여 학습 데이터와 모델 성능을 1차 평가하는 검증 데이터로 나눈다.\r\n",
    "\r\n",
    "<img src=\"./images/cross_validation01.png\" width=\"500px\">\r\n",
    "\r\n",
    "#### 교차 검증의 장단점\r\n",
    "- 👍특정 데이터 세트에 대한 과적합 방지\r\n",
    "- 👍데이터 세트 규모가 적을 시 과소적합 방지\r\n",
    "- 👎모델 훈련, 모델 평가에 소요되는 시간 증가\r\n",
    "- 즉, 과적합을 피하고 하이퍼 파라미터를 튜닝함으로써 모델을 일반화하고 신뢰성을 증가시키기 위한 목적이다."
   ]
  },
  {
   "cell_type": "markdown",
   "id": "74c320e1-7f09-4425-a581-36dfa23ff394",
   "metadata": {},
   "source": [
    "#### 교차 검증의 종류\n",
    "K-Fold\n",
    "- k개의 데이터 폴드 세트를 만든 뒤 k번 만큼 학습과 검증 평가를 반복하여 수행하는 방식.\n",
    "- 학습 데이터와 검증 데이터를 정확히 자르기 때문에 타겟 데이터의 비중이 한 곳으로 치중될 수 있다.\n",
    "- 예를 들어, 0, 1, 2 중에서 0, 1 두 가지만 잘라서 검증하게 되면 다른 하나의 타겟 데이터를 예측할 수 없게 된다.\n",
    "- Stratified K-Fold로 해결한다.\n",
    "\n",
    "Stratified K-Fold\n",
    "- K-Fold와 마찬가지로 k번 수행하지만, 학습 데이터 세트와 검증 데이터 세트가 가지는 타겟의 분포도가 유사하도록 검증한다.\n",
    "- 타겟 데이터의 비중을 항상 똑같이 자르기 때문에 데이터가 한 곳으로 치중되는 것을 방지한다.\n",
    "\n",
    "<img src=\"./images/cross_validation02.png\" width=\"600px\">\n",
    "\n",
    "GridSearchCV\n",
    "- 교차 검증과 최적의 하이퍼 파라미터 튜닝을 한 번에 할 수 있는 객체이다.\n",
    "- max_depth와 min_samples_split에 1차원 정수형 list를 전달하면, 2차원으로 결합하여 격자(Grid)를 만들고, 이 중 최적의 점을 찾아낸다.\n",
    "- 딥러닝에서는 학습 속도가 머신러닝에 비해 느리고, 레이어(층)가 깊어질 수록 조정해주어야 할 하이퍼 파라미터 값이 많아지기 때문에, RandomSearchCV에서 대략적인 범위를 찾은 다음, GridSearchCV로 디테일을 조정하는 방식을 사용한다.\n",
    "\n",
    "<img src=\"./images/grid_search_cv.png\" width=\"500px\">"
   ]
  },
  {
   "cell_type": "code",
   "execution_count": 1,
   "id": "036df8ea-7658-441f-b40d-21d8e33d88e9",
   "metadata": {},
   "outputs": [
    {
     "data": {
      "text/plain": [
       "target\n",
       "0         50\n",
       "1         50\n",
       "2         50\n",
       "Name: count, dtype: int64"
      ]
     },
     "execution_count": 1,
     "metadata": {},
     "output_type": "execute_result"
    }
   ],
   "source": [
    "from sklearn.datasets import load_iris\n",
    "import numpy as np\n",
    "import pandas as pd\n",
    "\n",
    "iris = load_iris()\n",
    "features = iris.data\n",
    "targets = iris.target\n",
    "\n",
    "target_df = pd.DataFrame(targets,columns=['target'])\n",
    "target_df.value_counts()"
   ]
  },
  {
   "cell_type": "code",
   "execution_count": null,
   "id": "ffbd6c97-c40d-4333-91db-e759c2ff3237",
   "metadata": {},
   "outputs": [],
   "source": [
    "from sklearn.tree import DecisionTreeClassifier\n",
    "from sklearn.\n",
    "from sklearn.model_selectiondel_ import KFold"
   ]
  },
  {
   "cell_type": "code",
   "execution_count": null,
   "id": "7c89ad1c-46c3-4993-b7ba-634d829d3547",
   "metadata": {},
   "outputs": [],
   "source": []
  },
  {
   "cell_type": "code",
   "execution_count": null,
   "id": "13b3e27d-e81f-49a8-a54d-f8cbec94b020",
   "metadata": {},
   "outputs": [],
   "source": [
    "count = 0\n",
    "for train_index, test_index in s_kfold.split(features, targets):\n",
    "    # 분리\n",
    "    X_train, X_test = features[train_index], features[test_index]\n",
    "    y_train, y_test = targets[train_index], targets[test_index]\n",
    "\n",
    "    # 학습 및 예측\n",
    "    dtc.fit(X_train, y_train)\n",
    "    prediction = dtc.predict(X_test)\n",
    "\n",
    "    # 평가\n",
    "    accuracy = np.round(accuracy_score(y_test, prediction), 4)\n",
    "\n",
    "    # 검증\n",
    "    train_targets = pd.DataFrame(y_train)\n",
    "    test_targets = pd.DataFrame(y_test)\n",
    "\n",
    "    count += 1\n",
    "    \n",
    "    print(f'{count} 회차')\n",
    "    print(f'학습 타겟 데이터 분포: \\n{train_targets.value_counts()}')\n",
    "    print(f'검증 타겟 데이터 분포: \\n{test_targets.value_counts()}')\n",
    "    print(f'정확도: {accuracy}')"
   ]
  },
  {
   "cell_type": "markdown",
   "id": "89c52bce-f1db-47b3-ab61-fbebb818ece0",
   "metadata": {},
   "source": [
    "#### 편하게 수행할 수 있는 교차 검증\n",
    "**cross_val_score(esrimator, x, y, cv, scoring)**\n",
    "- estimator: classifier 종류 모델이면 내부적으로 startified K-Fold로 진행된다.\n",
    "- x: features\n",
    "- y: targets\n",
    "- cv: 폴드 세트 개수\n",
    "- scoring: 평가 함수, 정확도(accuracy)외에 다른 것을 다른 장에서 배운다."
   ]
  },
  {
   "cell_type": "code",
   "execution_count": 4,
   "id": "1ef3e9ed-f6e7-4313-8733-657d5e6af098",
   "metadata": {},
   "outputs": [
    {
     "name": "stdout",
     "output_type": "stream",
     "text": [
      "0.94\n"
     ]
    }
   ],
   "source": [
    "from sklearn.tree import DecisionTreeClassifier\n",
    "from sklearn.model_selection import cross_val_score\n",
    "from sklearn.datasets import load_iris\n",
    "import numpy as np\n",
    "\n",
    "iris = load_iris()\n",
    "dtc = DecisionTreeClassifier(random_state=124, min_samples_leaf=6)\n",
    "\n",
    "features = iris.data\n",
    "targets = iris.target\n",
    "\n",
    "score = cross_val_score(dtc, features, targets, cv=5, scoring='accuracy')\n",
    "print(np.round(np.mean(score), 4))"
   ]
  },
  {
   "cell_type": "markdown",
   "id": "358c7084-bc5e-46bd-b80e-003fd57ae03e",
   "metadata": {},
   "source": [
    "#### GridSearchCV\n",
    "**GridSearchCV(estimator, param_grid, cv, refit, return_train_score)**\n",
    "- estimator: 학습할 모델 객체 생성\n",
    "- param_grid: dict형태로 전달해야 하며, 주요 key값은 max_depth, min_samples_split이다.\n",
    "- cv: 폴드 세트 개수\n",
    "- refit: 전달한 모델 객체에 최적의 하이퍼 파라미터로 적용하고자 할 때 True를 전달한다.\n",
    "- return_train_score: 교차 검증 점수를 가져올 지에 대해 True 또는 False를 전달한다."
   ]
  },
  {
   "cell_type": "code",
   "execution_count": 5,
   "id": "5a986f78-e68e-4361-b478-d14261511fef",
   "metadata": {},
   "outputs": [],
   "source": [
    "from sklearn.datasets import load_iris\n",
    "from sklearn.tree import DecisionTreeClassifier\n",
    "from sklearn.model_selection import GridSearchCV, train_test_split\n",
    "from sklearn.metrics import accuracy_score\n",
    "\n",
    "iris = load_iris()\n",
    "features = iris.data\n",
    "targets = iris.target\n",
    "\n",
    "X_train, X_test, y_train,y_test = \\\n",
    "train_test_split(features, targets, test_size=0.2, random_state=124)\n",
    "\n",
    "dtc = DecisionTreeClassifier()\n",
    "parameters = {'max_depth': [2, 3, 4], 'min_samples_split': [6, 7]}"
   ]
  },
  {
   "cell_type": "code",
   "execution_count": 10,
   "id": "ae752558-94e2-402e-b5ac-6a7ec7cf76ad",
   "metadata": {},
   "outputs": [],
   "source": [
    "g_dtc = GridSearchCV(dtc, \n",
    "                     param_grid=parameters, \n",
    "                     cv=5, \n",
    "                     refit=True, \n",
    "                     return_train_score=True, \n",
    "                     n_jobs=-1)"
   ]
  },
  {
   "cell_type": "code",
   "execution_count": 11,
   "id": "9e9b6558-bf7d-4fb5-845c-951de4caf0d2",
   "metadata": {},
   "outputs": [
    {
     "data": {
      "text/html": [
       "<style>#sk-container-id-2 {color: black;background-color: white;}#sk-container-id-2 pre{padding: 0;}#sk-container-id-2 div.sk-toggleable {background-color: white;}#sk-container-id-2 label.sk-toggleable__label {cursor: pointer;display: block;width: 100%;margin-bottom: 0;padding: 0.3em;box-sizing: border-box;text-align: center;}#sk-container-id-2 label.sk-toggleable__label-arrow:before {content: \"▸\";float: left;margin-right: 0.25em;color: #696969;}#sk-container-id-2 label.sk-toggleable__label-arrow:hover:before {color: black;}#sk-container-id-2 div.sk-estimator:hover label.sk-toggleable__label-arrow:before {color: black;}#sk-container-id-2 div.sk-toggleable__content {max-height: 0;max-width: 0;overflow: hidden;text-align: left;background-color: #f0f8ff;}#sk-container-id-2 div.sk-toggleable__content pre {margin: 0.2em;color: black;border-radius: 0.25em;background-color: #f0f8ff;}#sk-container-id-2 input.sk-toggleable__control:checked~div.sk-toggleable__content {max-height: 200px;max-width: 100%;overflow: auto;}#sk-container-id-2 input.sk-toggleable__control:checked~label.sk-toggleable__label-arrow:before {content: \"▾\";}#sk-container-id-2 div.sk-estimator input.sk-toggleable__control:checked~label.sk-toggleable__label {background-color: #d4ebff;}#sk-container-id-2 div.sk-label input.sk-toggleable__control:checked~label.sk-toggleable__label {background-color: #d4ebff;}#sk-container-id-2 input.sk-hidden--visually {border: 0;clip: rect(1px 1px 1px 1px);clip: rect(1px, 1px, 1px, 1px);height: 1px;margin: -1px;overflow: hidden;padding: 0;position: absolute;width: 1px;}#sk-container-id-2 div.sk-estimator {font-family: monospace;background-color: #f0f8ff;border: 1px dotted black;border-radius: 0.25em;box-sizing: border-box;margin-bottom: 0.5em;}#sk-container-id-2 div.sk-estimator:hover {background-color: #d4ebff;}#sk-container-id-2 div.sk-parallel-item::after {content: \"\";width: 100%;border-bottom: 1px solid gray;flex-grow: 1;}#sk-container-id-2 div.sk-label:hover label.sk-toggleable__label {background-color: #d4ebff;}#sk-container-id-2 div.sk-serial::before {content: \"\";position: absolute;border-left: 1px solid gray;box-sizing: border-box;top: 0;bottom: 0;left: 50%;z-index: 0;}#sk-container-id-2 div.sk-serial {display: flex;flex-direction: column;align-items: center;background-color: white;padding-right: 0.2em;padding-left: 0.2em;position: relative;}#sk-container-id-2 div.sk-item {position: relative;z-index: 1;}#sk-container-id-2 div.sk-parallel {display: flex;align-items: stretch;justify-content: center;background-color: white;position: relative;}#sk-container-id-2 div.sk-item::before, #sk-container-id-2 div.sk-parallel-item::before {content: \"\";position: absolute;border-left: 1px solid gray;box-sizing: border-box;top: 0;bottom: 0;left: 50%;z-index: -1;}#sk-container-id-2 div.sk-parallel-item {display: flex;flex-direction: column;z-index: 1;position: relative;background-color: white;}#sk-container-id-2 div.sk-parallel-item:first-child::after {align-self: flex-end;width: 50%;}#sk-container-id-2 div.sk-parallel-item:last-child::after {align-self: flex-start;width: 50%;}#sk-container-id-2 div.sk-parallel-item:only-child::after {width: 0;}#sk-container-id-2 div.sk-dashed-wrapped {border: 1px dashed gray;margin: 0 0.4em 0.5em 0.4em;box-sizing: border-box;padding-bottom: 0.4em;background-color: white;}#sk-container-id-2 div.sk-label label {font-family: monospace;font-weight: bold;display: inline-block;line-height: 1.2em;}#sk-container-id-2 div.sk-label-container {text-align: center;}#sk-container-id-2 div.sk-container {/* jupyter's `normalize.less` sets `[hidden] { display: none; }` but bootstrap.min.css set `[hidden] { display: none !important; }` so we also need the `!important` here to be able to override the default hidden behavior on the sphinx rendered scikit-learn.org. See: https://github.com/scikit-learn/scikit-learn/issues/21755 */display: inline-block !important;position: relative;}#sk-container-id-2 div.sk-text-repr-fallback {display: none;}</style><div id=\"sk-container-id-2\" class=\"sk-top-container\"><div class=\"sk-text-repr-fallback\"><pre>GridSearchCV(cv=5, estimator=DecisionTreeClassifier(), n_jobs=-1,\n",
       "             param_grid={&#x27;max_depth&#x27;: [2, 3, 4], &#x27;min_samples_split&#x27;: [6, 7]},\n",
       "             return_train_score=True)</pre><b>In a Jupyter environment, please rerun this cell to show the HTML representation or trust the notebook. <br />On GitHub, the HTML representation is unable to render, please try loading this page with nbviewer.org.</b></div><div class=\"sk-container\" hidden><div class=\"sk-item sk-dashed-wrapped\"><div class=\"sk-label-container\"><div class=\"sk-label sk-toggleable\"><input class=\"sk-toggleable__control sk-hidden--visually\" id=\"sk-estimator-id-4\" type=\"checkbox\" ><label for=\"sk-estimator-id-4\" class=\"sk-toggleable__label sk-toggleable__label-arrow\">GridSearchCV</label><div class=\"sk-toggleable__content\"><pre>GridSearchCV(cv=5, estimator=DecisionTreeClassifier(), n_jobs=-1,\n",
       "             param_grid={&#x27;max_depth&#x27;: [2, 3, 4], &#x27;min_samples_split&#x27;: [6, 7]},\n",
       "             return_train_score=True)</pre></div></div></div><div class=\"sk-parallel\"><div class=\"sk-parallel-item\"><div class=\"sk-item\"><div class=\"sk-label-container\"><div class=\"sk-label sk-toggleable\"><input class=\"sk-toggleable__control sk-hidden--visually\" id=\"sk-estimator-id-5\" type=\"checkbox\" ><label for=\"sk-estimator-id-5\" class=\"sk-toggleable__label sk-toggleable__label-arrow\">estimator: DecisionTreeClassifier</label><div class=\"sk-toggleable__content\"><pre>DecisionTreeClassifier()</pre></div></div></div><div class=\"sk-serial\"><div class=\"sk-item\"><div class=\"sk-estimator sk-toggleable\"><input class=\"sk-toggleable__control sk-hidden--visually\" id=\"sk-estimator-id-6\" type=\"checkbox\" ><label for=\"sk-estimator-id-6\" class=\"sk-toggleable__label sk-toggleable__label-arrow\">DecisionTreeClassifier</label><div class=\"sk-toggleable__content\"><pre>DecisionTreeClassifier()</pre></div></div></div></div></div></div></div></div></div></div>"
      ],
      "text/plain": [
       "GridSearchCV(cv=5, estimator=DecisionTreeClassifier(), n_jobs=-1,\n",
       "             param_grid={'max_depth': [2, 3, 4], 'min_samples_split': [6, 7]},\n",
       "             return_train_score=True)"
      ]
     },
     "execution_count": 11,
     "metadata": {},
     "output_type": "execute_result"
    }
   ],
   "source": [
    "g_dtc.fit(X_train, y_train)"
   ]
  },
  {
   "cell_type": "code",
   "execution_count": 13,
   "id": "d52ea480-1017-4be6-9bad-2b68d9527b55",
   "metadata": {},
   "outputs": [
    {
     "data": {
      "text/plain": [
       "{'mean_fit_time': array([0.00180421, 0.00210767, 0.00160613, 0.00080366, 0.00150695,\n",
       "        0.00100131]),\n",
       " 'std_fit_time': array([4.02883623e-04, 6.66986352e-04, 4.95190547e-04, 4.01879460e-04,\n",
       "        6.38177262e-04, 5.96408734e-06]),\n",
       " 'mean_score_time': array([0.00110312, 0.00130334, 0.00120192, 0.00100656, 0.00070291,\n",
       "        0.00120082]),\n",
       " 'std_score_time': array([0.00020435, 0.00040113, 0.00040517, 0.00055161, 0.00060379,\n",
       "        0.00039952]),\n",
       " 'param_max_depth': masked_array(data=[2, 2, 3, 3, 4, 4],\n",
       "              mask=[False, False, False, False, False, False],\n",
       "        fill_value='?',\n",
       "             dtype=object),\n",
       " 'param_min_samples_split': masked_array(data=[6, 7, 6, 7, 6, 7],\n",
       "              mask=[False, False, False, False, False, False],\n",
       "        fill_value='?',\n",
       "             dtype=object),\n",
       " 'params': [{'max_depth': 2, 'min_samples_split': 6},\n",
       "  {'max_depth': 2, 'min_samples_split': 7},\n",
       "  {'max_depth': 3, 'min_samples_split': 6},\n",
       "  {'max_depth': 3, 'min_samples_split': 7},\n",
       "  {'max_depth': 4, 'min_samples_split': 6},\n",
       "  {'max_depth': 4, 'min_samples_split': 7}],\n",
       " 'split0_test_score': array([1., 1., 1., 1., 1., 1.]),\n",
       " 'split1_test_score': array([0.95833333, 0.95833333, 1.        , 1.        , 1.        ,\n",
       "        1.        ]),\n",
       " 'split2_test_score': array([0.95833333, 0.95833333, 0.95833333, 0.95833333, 0.95833333,\n",
       "        0.95833333]),\n",
       " 'split3_test_score': array([1., 1., 1., 1., 1., 1.]),\n",
       " 'split4_test_score': array([0.95833333, 0.95833333, 1.        , 1.        , 1.        ,\n",
       "        1.        ]),\n",
       " 'mean_test_score': array([0.975     , 0.975     , 0.99166667, 0.99166667, 0.99166667,\n",
       "        0.99166667]),\n",
       " 'std_test_score': array([0.02041241, 0.02041241, 0.01666667, 0.01666667, 0.01666667,\n",
       "        0.01666667]),\n",
       " 'rank_test_score': array([5, 5, 1, 1, 1, 1]),\n",
       " 'split0_train_score': array([0.96875, 0.96875, 1.     , 1.     , 1.     , 1.     ]),\n",
       " 'split1_train_score': array([0.97916667, 0.97916667, 1.        , 1.        , 1.        ,\n",
       "        1.        ]),\n",
       " 'split2_train_score': array([0.97916667, 0.97916667, 1.        , 1.        , 1.        ,\n",
       "        1.        ]),\n",
       " 'split3_train_score': array([0.96875, 0.96875, 1.     , 1.     , 1.     , 1.     ]),\n",
       " 'split4_train_score': array([0.97916667, 0.97916667, 1.        , 1.        , 1.        ,\n",
       "        1.        ]),\n",
       " 'mean_train_score': array([0.975, 0.975, 1.   , 1.   , 1.   , 1.   ]),\n",
       " 'std_train_score': array([0.0051031, 0.0051031, 0.       , 0.       , 0.       , 0.       ])}"
      ]
     },
     "execution_count": 13,
     "metadata": {},
     "output_type": "execute_result"
    }
   ],
   "source": [
    "g_dtc.cv_results_"
   ]
  },
  {
   "cell_type": "code",
   "execution_count": 14,
   "id": "c658d9a6-a0a3-4a59-93f1-f5c1199d9e60",
   "metadata": {},
   "outputs": [
    {
     "data": {
      "text/html": [
       "<div>\n",
       "<style scoped>\n",
       "    .dataframe tbody tr th:only-of-type {\n",
       "        vertical-align: middle;\n",
       "    }\n",
       "\n",
       "    .dataframe tbody tr th {\n",
       "        vertical-align: top;\n",
       "    }\n",
       "\n",
       "    .dataframe thead th {\n",
       "        text-align: right;\n",
       "    }\n",
       "</style>\n",
       "<table border=\"1\" class=\"dataframe\">\n",
       "  <thead>\n",
       "    <tr style=\"text-align: right;\">\n",
       "      <th></th>\n",
       "      <th>mean_fit_time</th>\n",
       "      <th>std_fit_time</th>\n",
       "      <th>mean_score_time</th>\n",
       "      <th>std_score_time</th>\n",
       "      <th>param_max_depth</th>\n",
       "      <th>param_min_samples_split</th>\n",
       "      <th>params</th>\n",
       "      <th>split0_test_score</th>\n",
       "      <th>split1_test_score</th>\n",
       "      <th>split2_test_score</th>\n",
       "      <th>split3_test_score</th>\n",
       "      <th>split4_test_score</th>\n",
       "      <th>mean_test_score</th>\n",
       "      <th>std_test_score</th>\n",
       "      <th>rank_test_score</th>\n",
       "      <th>split0_train_score</th>\n",
       "      <th>split1_train_score</th>\n",
       "      <th>split2_train_score</th>\n",
       "      <th>split3_train_score</th>\n",
       "      <th>split4_train_score</th>\n",
       "      <th>mean_train_score</th>\n",
       "      <th>std_train_score</th>\n",
       "    </tr>\n",
       "  </thead>\n",
       "  <tbody>\n",
       "    <tr>\n",
       "      <th>0</th>\n",
       "      <td>0.001804</td>\n",
       "      <td>0.000403</td>\n",
       "      <td>0.001103</td>\n",
       "      <td>0.000204</td>\n",
       "      <td>2</td>\n",
       "      <td>6</td>\n",
       "      <td>{'max_depth': 2, 'min_samples_split': 6}</td>\n",
       "      <td>1.0</td>\n",
       "      <td>0.958333</td>\n",
       "      <td>0.958333</td>\n",
       "      <td>1.0</td>\n",
       "      <td>0.958333</td>\n",
       "      <td>0.975000</td>\n",
       "      <td>0.020412</td>\n",
       "      <td>5</td>\n",
       "      <td>0.96875</td>\n",
       "      <td>0.979167</td>\n",
       "      <td>0.979167</td>\n",
       "      <td>0.96875</td>\n",
       "      <td>0.979167</td>\n",
       "      <td>0.975</td>\n",
       "      <td>0.005103</td>\n",
       "    </tr>\n",
       "    <tr>\n",
       "      <th>1</th>\n",
       "      <td>0.002108</td>\n",
       "      <td>0.000667</td>\n",
       "      <td>0.001303</td>\n",
       "      <td>0.000401</td>\n",
       "      <td>2</td>\n",
       "      <td>7</td>\n",
       "      <td>{'max_depth': 2, 'min_samples_split': 7}</td>\n",
       "      <td>1.0</td>\n",
       "      <td>0.958333</td>\n",
       "      <td>0.958333</td>\n",
       "      <td>1.0</td>\n",
       "      <td>0.958333</td>\n",
       "      <td>0.975000</td>\n",
       "      <td>0.020412</td>\n",
       "      <td>5</td>\n",
       "      <td>0.96875</td>\n",
       "      <td>0.979167</td>\n",
       "      <td>0.979167</td>\n",
       "      <td>0.96875</td>\n",
       "      <td>0.979167</td>\n",
       "      <td>0.975</td>\n",
       "      <td>0.005103</td>\n",
       "    </tr>\n",
       "    <tr>\n",
       "      <th>2</th>\n",
       "      <td>0.001606</td>\n",
       "      <td>0.000495</td>\n",
       "      <td>0.001202</td>\n",
       "      <td>0.000405</td>\n",
       "      <td>3</td>\n",
       "      <td>6</td>\n",
       "      <td>{'max_depth': 3, 'min_samples_split': 6}</td>\n",
       "      <td>1.0</td>\n",
       "      <td>1.000000</td>\n",
       "      <td>0.958333</td>\n",
       "      <td>1.0</td>\n",
       "      <td>1.000000</td>\n",
       "      <td>0.991667</td>\n",
       "      <td>0.016667</td>\n",
       "      <td>1</td>\n",
       "      <td>1.00000</td>\n",
       "      <td>1.000000</td>\n",
       "      <td>1.000000</td>\n",
       "      <td>1.00000</td>\n",
       "      <td>1.000000</td>\n",
       "      <td>1.000</td>\n",
       "      <td>0.000000</td>\n",
       "    </tr>\n",
       "    <tr>\n",
       "      <th>3</th>\n",
       "      <td>0.000804</td>\n",
       "      <td>0.000402</td>\n",
       "      <td>0.001007</td>\n",
       "      <td>0.000552</td>\n",
       "      <td>3</td>\n",
       "      <td>7</td>\n",
       "      <td>{'max_depth': 3, 'min_samples_split': 7}</td>\n",
       "      <td>1.0</td>\n",
       "      <td>1.000000</td>\n",
       "      <td>0.958333</td>\n",
       "      <td>1.0</td>\n",
       "      <td>1.000000</td>\n",
       "      <td>0.991667</td>\n",
       "      <td>0.016667</td>\n",
       "      <td>1</td>\n",
       "      <td>1.00000</td>\n",
       "      <td>1.000000</td>\n",
       "      <td>1.000000</td>\n",
       "      <td>1.00000</td>\n",
       "      <td>1.000000</td>\n",
       "      <td>1.000</td>\n",
       "      <td>0.000000</td>\n",
       "    </tr>\n",
       "    <tr>\n",
       "      <th>4</th>\n",
       "      <td>0.001507</td>\n",
       "      <td>0.000638</td>\n",
       "      <td>0.000703</td>\n",
       "      <td>0.000604</td>\n",
       "      <td>4</td>\n",
       "      <td>6</td>\n",
       "      <td>{'max_depth': 4, 'min_samples_split': 6}</td>\n",
       "      <td>1.0</td>\n",
       "      <td>1.000000</td>\n",
       "      <td>0.958333</td>\n",
       "      <td>1.0</td>\n",
       "      <td>1.000000</td>\n",
       "      <td>0.991667</td>\n",
       "      <td>0.016667</td>\n",
       "      <td>1</td>\n",
       "      <td>1.00000</td>\n",
       "      <td>1.000000</td>\n",
       "      <td>1.000000</td>\n",
       "      <td>1.00000</td>\n",
       "      <td>1.000000</td>\n",
       "      <td>1.000</td>\n",
       "      <td>0.000000</td>\n",
       "    </tr>\n",
       "    <tr>\n",
       "      <th>5</th>\n",
       "      <td>0.001001</td>\n",
       "      <td>0.000006</td>\n",
       "      <td>0.001201</td>\n",
       "      <td>0.000400</td>\n",
       "      <td>4</td>\n",
       "      <td>7</td>\n",
       "      <td>{'max_depth': 4, 'min_samples_split': 7}</td>\n",
       "      <td>1.0</td>\n",
       "      <td>1.000000</td>\n",
       "      <td>0.958333</td>\n",
       "      <td>1.0</td>\n",
       "      <td>1.000000</td>\n",
       "      <td>0.991667</td>\n",
       "      <td>0.016667</td>\n",
       "      <td>1</td>\n",
       "      <td>1.00000</td>\n",
       "      <td>1.000000</td>\n",
       "      <td>1.000000</td>\n",
       "      <td>1.00000</td>\n",
       "      <td>1.000000</td>\n",
       "      <td>1.000</td>\n",
       "      <td>0.000000</td>\n",
       "    </tr>\n",
       "  </tbody>\n",
       "</table>\n",
       "</div>"
      ],
      "text/plain": [
       "   mean_fit_time  std_fit_time  mean_score_time  ...  split4_train_score mean_train_score std_train_score\n",
       "0       0.001804      0.000403         0.001103  ...            0.979167            0.975        0.005103\n",
       "1       0.002108      0.000667         0.001303  ...            0.979167            0.975        0.005103\n",
       "2       0.001606      0.000495         0.001202  ...            1.000000            1.000        0.000000\n",
       "3       0.000804      0.000402         0.001007  ...            1.000000            1.000        0.000000\n",
       "4       0.001507      0.000638         0.000703  ...            1.000000            1.000        0.000000\n",
       "5       0.001001      0.000006         0.001201  ...            1.000000            1.000        0.000000\n",
       "\n",
       "[6 rows x 22 columns]"
      ]
     },
     "execution_count": 14,
     "metadata": {},
     "output_type": "execute_result"
    }
   ],
   "source": [
    "result_df = pd.DataFrame(g_dtc.cv_results_)\n",
    "result_df"
   ]
  },
  {
   "cell_type": "code",
   "execution_count": 16,
   "id": "a7233bdc-1438-460a-b308-0bf877cb45dc",
   "metadata": {},
   "outputs": [
    {
     "name": "stdout",
     "output_type": "stream",
     "text": [
      "{'max_depth': 3, 'min_samples_split': 6}\n",
      "0.9916666666666668\n"
     ]
    }
   ],
   "source": [
    "print(g_dtc.best_params_, g_dtc.best_score_, sep=\"\\n\")"
   ]
  },
  {
   "cell_type": "code",
   "execution_count": 17,
   "id": "903baaf1-4b79-4e53-99a6-8c9fe2d69b1e",
   "metadata": {},
   "outputs": [
    {
     "data": {
      "text/html": [
       "<style>#sk-container-id-3 {color: black;background-color: white;}#sk-container-id-3 pre{padding: 0;}#sk-container-id-3 div.sk-toggleable {background-color: white;}#sk-container-id-3 label.sk-toggleable__label {cursor: pointer;display: block;width: 100%;margin-bottom: 0;padding: 0.3em;box-sizing: border-box;text-align: center;}#sk-container-id-3 label.sk-toggleable__label-arrow:before {content: \"▸\";float: left;margin-right: 0.25em;color: #696969;}#sk-container-id-3 label.sk-toggleable__label-arrow:hover:before {color: black;}#sk-container-id-3 div.sk-estimator:hover label.sk-toggleable__label-arrow:before {color: black;}#sk-container-id-3 div.sk-toggleable__content {max-height: 0;max-width: 0;overflow: hidden;text-align: left;background-color: #f0f8ff;}#sk-container-id-3 div.sk-toggleable__content pre {margin: 0.2em;color: black;border-radius: 0.25em;background-color: #f0f8ff;}#sk-container-id-3 input.sk-toggleable__control:checked~div.sk-toggleable__content {max-height: 200px;max-width: 100%;overflow: auto;}#sk-container-id-3 input.sk-toggleable__control:checked~label.sk-toggleable__label-arrow:before {content: \"▾\";}#sk-container-id-3 div.sk-estimator input.sk-toggleable__control:checked~label.sk-toggleable__label {background-color: #d4ebff;}#sk-container-id-3 div.sk-label input.sk-toggleable__control:checked~label.sk-toggleable__label {background-color: #d4ebff;}#sk-container-id-3 input.sk-hidden--visually {border: 0;clip: rect(1px 1px 1px 1px);clip: rect(1px, 1px, 1px, 1px);height: 1px;margin: -1px;overflow: hidden;padding: 0;position: absolute;width: 1px;}#sk-container-id-3 div.sk-estimator {font-family: monospace;background-color: #f0f8ff;border: 1px dotted black;border-radius: 0.25em;box-sizing: border-box;margin-bottom: 0.5em;}#sk-container-id-3 div.sk-estimator:hover {background-color: #d4ebff;}#sk-container-id-3 div.sk-parallel-item::after {content: \"\";width: 100%;border-bottom: 1px solid gray;flex-grow: 1;}#sk-container-id-3 div.sk-label:hover label.sk-toggleable__label {background-color: #d4ebff;}#sk-container-id-3 div.sk-serial::before {content: \"\";position: absolute;border-left: 1px solid gray;box-sizing: border-box;top: 0;bottom: 0;left: 50%;z-index: 0;}#sk-container-id-3 div.sk-serial {display: flex;flex-direction: column;align-items: center;background-color: white;padding-right: 0.2em;padding-left: 0.2em;position: relative;}#sk-container-id-3 div.sk-item {position: relative;z-index: 1;}#sk-container-id-3 div.sk-parallel {display: flex;align-items: stretch;justify-content: center;background-color: white;position: relative;}#sk-container-id-3 div.sk-item::before, #sk-container-id-3 div.sk-parallel-item::before {content: \"\";position: absolute;border-left: 1px solid gray;box-sizing: border-box;top: 0;bottom: 0;left: 50%;z-index: -1;}#sk-container-id-3 div.sk-parallel-item {display: flex;flex-direction: column;z-index: 1;position: relative;background-color: white;}#sk-container-id-3 div.sk-parallel-item:first-child::after {align-self: flex-end;width: 50%;}#sk-container-id-3 div.sk-parallel-item:last-child::after {align-self: flex-start;width: 50%;}#sk-container-id-3 div.sk-parallel-item:only-child::after {width: 0;}#sk-container-id-3 div.sk-dashed-wrapped {border: 1px dashed gray;margin: 0 0.4em 0.5em 0.4em;box-sizing: border-box;padding-bottom: 0.4em;background-color: white;}#sk-container-id-3 div.sk-label label {font-family: monospace;font-weight: bold;display: inline-block;line-height: 1.2em;}#sk-container-id-3 div.sk-label-container {text-align: center;}#sk-container-id-3 div.sk-container {/* jupyter's `normalize.less` sets `[hidden] { display: none; }` but bootstrap.min.css set `[hidden] { display: none !important; }` so we also need the `!important` here to be able to override the default hidden behavior on the sphinx rendered scikit-learn.org. See: https://github.com/scikit-learn/scikit-learn/issues/21755 */display: inline-block !important;position: relative;}#sk-container-id-3 div.sk-text-repr-fallback {display: none;}</style><div id=\"sk-container-id-3\" class=\"sk-top-container\"><div class=\"sk-text-repr-fallback\"><pre>DecisionTreeClassifier(max_depth=3, min_samples_split=6)</pre><b>In a Jupyter environment, please rerun this cell to show the HTML representation or trust the notebook. <br />On GitHub, the HTML representation is unable to render, please try loading this page with nbviewer.org.</b></div><div class=\"sk-container\" hidden><div class=\"sk-item\"><div class=\"sk-estimator sk-toggleable\"><input class=\"sk-toggleable__control sk-hidden--visually\" id=\"sk-estimator-id-7\" type=\"checkbox\" checked><label for=\"sk-estimator-id-7\" class=\"sk-toggleable__label sk-toggleable__label-arrow\">DecisionTreeClassifier</label><div class=\"sk-toggleable__content\"><pre>DecisionTreeClassifier(max_depth=3, min_samples_split=6)</pre></div></div></div></div></div>"
      ],
      "text/plain": [
       "DecisionTreeClassifier(max_depth=3, min_samples_split=6)"
      ]
     },
     "execution_count": 17,
     "metadata": {},
     "output_type": "execute_result"
    }
   ],
   "source": [
    "g_dtc.best_estimator_"
   ]
  },
  {
   "cell_type": "code",
   "execution_count": 19,
   "id": "b2d6cea4-2462-430c-8290-e0e23f988345",
   "metadata": {},
   "outputs": [
    {
     "data": {
      "text/plain": [
       "0.9"
      ]
     },
     "execution_count": 19,
     "metadata": {},
     "output_type": "execute_result"
    }
   ],
   "source": [
    "dtc = g_dtc.best_estimator_\n",
    "prediction = dtc.predict(X_test)\n",
    "accuracy_score(y_test, prediction)"
   ]
  },
  {
   "cell_type": "code",
   "execution_count": null,
   "id": "fdd78f55-0324-4b61-b0a0-fc02e91c52d7",
   "metadata": {},
   "outputs": [],
   "source": []
  },
  {
   "cell_type": "code",
   "execution_count": null,
   "id": "078ec1e2-7b0e-404e-b343-480d4b277fcf",
   "metadata": {},
   "outputs": [],
   "source": []
  },
  {
   "cell_type": "code",
   "execution_count": null,
   "id": "a8c3be46-45a5-43ab-8f9c-5e4337ca1a65",
   "metadata": {},
   "outputs": [],
   "source": []
  },
  {
   "cell_type": "code",
   "execution_count": null,
   "id": "8e234d53-4ed3-4e55-b412-cc356a004254",
   "metadata": {},
   "outputs": [],
   "source": []
  },
  {
   "cell_type": "code",
   "execution_count": null,
   "id": "473fb18d-1ed9-47ea-bf4b-b85fc8879d57",
   "metadata": {},
   "outputs": [],
   "source": []
  },
  {
   "cell_type": "code",
   "execution_count": null,
   "id": "2fb2c3f1-82b5-46a8-8a84-ca583ce15ce7",
   "metadata": {},
   "outputs": [],
   "source": []
  },
  {
   "cell_type": "code",
   "execution_count": null,
   "id": "dd1a551d-9b71-458b-bf49-52cdbb06bfcc",
   "metadata": {},
   "outputs": [],
   "source": []
  },
  {
   "cell_type": "code",
   "execution_count": null,
   "id": "aa2baa7f-5284-4158-885d-2ebff49fc07c",
   "metadata": {},
   "outputs": [],
   "source": []
  },
  {
   "cell_type": "code",
   "execution_count": null,
   "id": "3cdd30a7-9fe0-49e8-8cec-79418559aa9a",
   "metadata": {},
   "outputs": [],
   "source": []
  },
  {
   "cell_type": "code",
   "execution_count": null,
   "id": "c12a04db-3be4-4baf-be9b-0c8c692623b0",
   "metadata": {},
   "outputs": [],
   "source": []
  },
  {
   "cell_type": "code",
   "execution_count": null,
   "id": "f8b09df1-3309-4bc5-a87d-1ed5ee5875f6",
   "metadata": {},
   "outputs": [],
   "source": []
  },
  {
   "cell_type": "code",
   "execution_count": null,
   "id": "acc59450-5c46-425c-992e-a8133d12a69c",
   "metadata": {},
   "outputs": [],
   "source": []
  },
  {
   "cell_type": "code",
   "execution_count": null,
   "id": "332e3bbf-318b-4162-80e7-cf529b6fcb6e",
   "metadata": {},
   "outputs": [],
   "source": []
  }
 ],
 "metadata": {
  "kernelspec": {
   "display_name": "Python 3 (ipykernel)",
   "language": "python",
   "name": "python3"
  },
  "language_info": {
   "codemirror_mode": {
    "name": "ipython",
    "version": 3
   },
   "file_extension": ".py",
   "mimetype": "text/x-python",
   "name": "python",
   "nbconvert_exporter": "python",
   "pygments_lexer": "ipython3",
   "version": "3.11.8"
  }
 },
 "nbformat": 4,
 "nbformat_minor": 5
}
